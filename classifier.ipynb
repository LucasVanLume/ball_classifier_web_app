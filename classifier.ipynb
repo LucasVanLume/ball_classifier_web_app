{
  "nbformat": 4,
  "nbformat_minor": 0,
  "metadata": {
    "colab": {
      "name": "classifier.ipynb",
      "provenance": []
    },
    "kernelspec": {
      "name": "python3",
      "display_name": "Python 3"
    },
    "language_info": {
      "name": "python"
    },
    "accelerator": "GPU"
  },
  "cells": [
    {
      "cell_type": "markdown",
      "source": [
        "#Ball classifier\n",
        "\n",
        "###Classifies cricket, american football, and tennis balls"
      ],
      "metadata": {
        "id": "OT29whzyVJba"
      }
    },
    {
      "cell_type": "code",
      "source": [
        "!pip install -Uqq fastbook\n",
        "import fastbook"
      ],
      "metadata": {
        "id": "l8_cFY9ee5vw"
      },
      "execution_count": null,
      "outputs": []
    },
    {
      "cell_type": "code",
      "source": [
        "import fastai\n",
        "from fastbook import *\n",
        "from ipywidgets import *\n",
        "from fastai.vision.all import *\n",
        "from fastai.vision.widgets import *"
      ],
      "metadata": {
        "id": "aPjaW29yeahr"
      },
      "execution_count": 2,
      "outputs": []
    },
    {
      "cell_type": "code",
      "execution_count": null,
      "metadata": {
        "id": "UQJNB9qUVFgi"
      },
      "outputs": [],
      "source": [
        "def get_y(o): return [parent_label(o)]\n",
        "\n",
        "path = Path()\n",
        "learn_inf = load_learner('multi_label_classifier.pkl')\n",
        "btn_upload = widgets.FileUpload()\n",
        "out_pl = widgets.Output()\n",
        "lbl_pred = widgets.Label()\n",
        "\n",
        "def on_click_upload(change):\n",
        "    lbl_pred.value = '...waiting for classification...'\n",
        "    img = PILImage.create(btn_upload.data[-1])\n",
        "    out_pl.clear_output()\n",
        "    with out_pl: display(img.to_thumb(128,128))\n",
        "    pred,pred_idx,probs = learn_inf.predict(img)\n",
        "    lbl_pred.value = f'Prediction: {pred}; Probability: {probs[pred_idx].data.tolist()}'\n",
        "        \n",
        "btn_upload.observe(on_click_upload, names=['data'])\n",
        "VBox([widgets.Label('Upload an image of a cricket, american football or tennis ball to classify it!'), \n",
        "      btn_upload,out_pl, lbl_pred])"
      ]
    }
  ]
}